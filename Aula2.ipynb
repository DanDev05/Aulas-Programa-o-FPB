{
  "nbformat": 4,
  "nbformat_minor": 0,
  "metadata": {
    "colab": {
      "provenance": [],
      "authorship_tag": "ABX9TyMucgKwLxdFeBfinBf17qng",
      "include_colab_link": true
    },
    "kernelspec": {
      "name": "python3",
      "display_name": "Python 3"
    },
    "language_info": {
      "name": "python"
    }
  },
  "cells": [
    {
      "cell_type": "markdown",
      "metadata": {
        "id": "view-in-github",
        "colab_type": "text"
      },
      "source": [
        "<a href=\"https://colab.research.google.com/github/DanDev05/Aulas-Programa-o-FPB/blob/main/Aula2.ipynb\" target=\"_parent\"><img src=\"https://colab.research.google.com/assets/colab-badge.svg\" alt=\"Open In Colab\"/></a>"
      ]
    },
    {
      "cell_type": "code",
      "source": [
        "#solicita a altura e o peso de alguém, e retorna o imc\n",
        "alt = float(input(\"Altura: \"))\n",
        "peso = float(input(\"Peso: \"))\n",
        "IMC = (peso/alt**2)\n",
        "print(\"O IMC é:\" , round(IMC,2))\n",
        "\n"
      ],
      "metadata": {
        "colab": {
          "base_uri": "https://localhost:8080/"
        },
        "id": "uL2PvEhIol6n",
        "outputId": "77d69de0-71b5-4a6b-a996-4f13ea9a6ca6"
      },
      "execution_count": 14,
      "outputs": [
        {
          "output_type": "stream",
          "name": "stdout",
          "text": [
            "Altura: 1.73\n",
            "Peso: 63\n",
            "O IMC é: 21.05\n"
          ]
        }
      ]
    },
    {
      "cell_type": "markdown",
      "source": [
        "O comando 'round' é para arrendondar o número.\n",
        "O comando 'parse' transforma a entrada em String em outro tipo de variável.\n",
        "O caractér '*' duas vezes seguidas indica uma potência.\n"
      ],
      "metadata": {
        "id": "lZDtVdYRrzPw"
      }
    },
    {
      "cell_type": "code",
      "source": [
        "#Verificar se um número é par ou ímpar\n",
        "num = int(input(\"Digite um número: \"))\n",
        "if(num % 2 == 0):\n",
        "  print(\"Esse número é par\")\n",
        "else:\n",
        "     print(\"Esse número é ímpar\")"
      ],
      "metadata": {
        "id": "WW_LTXIEsR2U"
      },
      "execution_count": null,
      "outputs": []
    },
    {
      "cell_type": "markdown",
      "source": [
        "O 'else' em que estar na mesma hierarquia(endentação) do 'if'.\n"
      ],
      "metadata": {
        "id": "5WqowZQmyVGK"
      }
    },
    {
      "cell_type": "markdown",
      "source": [],
      "metadata": {
        "id": "LGNeZr7eoxlT"
      }
    },
    {
      "cell_type": "code",
      "source": [
        "#Dizer a categoria do lutador\n",
        "peso = int(input('Digite o peso: '))\n",
        "if(peso <= 70):\n",
        "  print('Galo')\n",
        "elif(peso <= 80):\n",
        "    print('Médio')\n",
        "elif(peso <= 90):\n",
        "  print(\"Meio pesado\")\n",
        "else:\n",
        "      print('Pesado')"
      ],
      "metadata": {
        "colab": {
          "base_uri": "https://localhost:8080/"
        },
        "id": "2Cqz9Fa0ysmY",
        "outputId": "028397d3-2c73-4e8e-b19b-fedbb98a7049"
      },
      "execution_count": 35,
      "outputs": [
        {
          "output_type": "stream",
          "name": "stdout",
          "text": [
            "Digite o peso: 81\n",
            "Meio pesado\n"
          ]
        }
      ]
    },
    {
      "cell_type": "code",
      "source": [
        "#solicita a altura e o peso de alguém, retorna o imc e o classifica.\n",
        "alt = float(input(\"Altura: \"))\n",
        "peso = float(input(\"Peso: \"))\n",
        "imc = (peso/alt**2)\n",
        "print(\"O IMC é:\" , round(imc,1))\n",
        "\n",
        "if(imc < 18.5):\n",
        "  print('Abaixo do peso normal')\n",
        "elif(imc <= 24.9):\n",
        "  print('Peso normal')\n",
        "elif(imc <= 29.9):\n",
        "  print('Execesso de peso')\n",
        "elif(imc <= 34.9):\n",
        "  print('Obesidade classse 1')\n",
        "elif(imc <= 39.9):\n",
        "  print('Obesidade classe 2')\n",
        "else:\n",
        "  print('Obesidade classe 3')  \n",
        "\n"
      ],
      "metadata": {
        "colab": {
          "base_uri": "https://localhost:8080/"
        },
        "id": "KixJ7Bpq1Xcz",
        "outputId": "a6f0be5e-68f8-4216-be7b-4bd42bcf7515"
      },
      "execution_count": 47,
      "outputs": [
        {
          "output_type": "stream",
          "name": "stdout",
          "text": [
            "Altura: 1.73\n",
            "Peso: 63\n",
            "O IMC é: 21.0\n",
            "Peso normal\n"
          ]
        }
      ]
    }
  ]
}