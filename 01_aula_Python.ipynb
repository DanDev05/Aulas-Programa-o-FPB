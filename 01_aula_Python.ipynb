{
  "nbformat": 4,
  "nbformat_minor": 0,
  "metadata": {
    "colab": {
      "provenance": [],
      "authorship_tag": "ABX9TyNWbsz1c1F9c7lzL6V+KtJ+",
      "include_colab_link": true
    },
    "kernelspec": {
      "name": "python3",
      "display_name": "Python 3"
    },
    "language_info": {
      "name": "python"
    }
  },
  "cells": [
    {
      "cell_type": "markdown",
      "metadata": {
        "id": "view-in-github",
        "colab_type": "text"
      },
      "source": [
        "<a href=\"https://colab.research.google.com/github/DanDev05/Aulas-Programa-o-FPB/blob/main/01_aula_Python.ipynb\" target=\"_parent\"><img src=\"https://colab.research.google.com/assets/colab-badge.svg\" alt=\"Open In Colab\"/></a>"
      ]
    },
    {
      "cell_type": "code",
      "execution_count": null,
      "metadata": {
        "id": "U8hHA-Bgtr3H"
      },
      "outputs": [],
      "source": []
    },
    {
      "cell_type": "markdown",
      "source": [
        "Primeira aula de Python.\n"
      ],
      "metadata": {
        "id": "e3pbPiCovst9"
      }
    },
    {
      "cell_type": "code",
      "source": [
        "print(\"Eu fiz meu primeiro código de Python\")"
      ],
      "metadata": {
        "colab": {
          "base_uri": "https://localhost:8080/"
        },
        "id": "wN9tQKPzvxjT",
        "outputId": "d43b3ad7-0baa-44ba-ad6c-29bb26cdfc32"
      },
      "execution_count": 1,
      "outputs": [
        {
          "output_type": "stream",
          "name": "stdout",
          "text": [
            "Eu fiz meu primeiro código de Python\n"
          ]
        }
      ]
    },
    {
      "cell_type": "code",
      "source": [
        "#Variáveis\n",
        "nome = \"Daniel\"\n",
        "print(nome)"
      ],
      "metadata": {
        "colab": {
          "base_uri": "https://localhost:8080/"
        },
        "id": "pBXTGXtqwOKh",
        "outputId": "d7434713-c8ef-4231-f0cf-e9dce6150a56"
      },
      "execution_count": 2,
      "outputs": [
        {
          "output_type": "stream",
          "name": "stdout",
          "text": [
            "Daniel\n"
          ]
        }
      ]
    },
    {
      "cell_type": "code",
      "source": [
        "#Operações com variáveis\n",
        "a = 55\n",
        "b = 44\n",
        "soma = a + b\n",
        "subtração = a - b\n",
        "divisão = a / b\n",
        "multipli = a * b"
      ],
      "metadata": {
        "id": "Z5JjJk0Mw2Kh"
      },
      "execution_count": 5,
      "outputs": []
    },
    {
      "cell_type": "code",
      "source": [
        "print(soma)\n",
        "print(subtração)\n",
        "print(divisão)\n",
        "print(multipli)"
      ],
      "metadata": {
        "colab": {
          "base_uri": "https://localhost:8080/"
        },
        "id": "7FX_VMgBxqVc",
        "outputId": "895fb9ba-3aba-44f9-a9fe-31421cc2d7c0"
      },
      "execution_count": 6,
      "outputs": [
        {
          "output_type": "stream",
          "name": "stdout",
          "text": [
            "99\n",
            "11\n",
            "1.25\n",
            "2420\n"
          ]
        }
      ]
    },
    {
      "cell_type": "markdown",
      "source": [
        "1. Pega o número de uma variáve e devolve o dobro\n",
        "2. Lê 3 notas e devolve a média aritmética\n",
        "3. Pede o ano de nascimento e calcula a idade atual"
      ],
      "metadata": {
        "id": "U3889fIvyNVV"
      }
    },
    {
      "cell_type": "code",
      "source": [
        "n = 5\n",
        "\n",
        "print(n * 2)"
      ],
      "metadata": {
        "colab": {
          "base_uri": "https://localhost:8080/"
        },
        "id": "gjta-xajzLVA",
        "outputId": "340c4751-bcf9-41d1-b429-b9c20560f995"
      },
      "execution_count": 9,
      "outputs": [
        {
          "output_type": "stream",
          "name": "stdout",
          "text": [
            "10\n"
          ]
        }
      ]
    },
    {
      "cell_type": "code",
      "source": [
        "n1 = 10\n",
        "n2 = 7\n",
        "n3 = 8\n",
        "media = (n1 + n2 + n3)/ 3\n",
        "print(media)\n"
      ],
      "metadata": {
        "colab": {
          "base_uri": "https://localhost:8080/"
        },
        "id": "3qCCquFhy6PX",
        "outputId": "a7847f9a-e800-4c5c-cb74-71a562833f49"
      },
      "execution_count": 14,
      "outputs": [
        {
          "output_type": "stream",
          "name": "stdout",
          "text": [
            "8.333333333333334\n"
          ]
        }
      ]
    },
    {
      "cell_type": "code",
      "source": [
        "ano = 2001\n",
        "print(2023-ano)"
      ],
      "metadata": {
        "id": "5Ob3gP8hz4MX"
      },
      "execution_count": null,
      "outputs": []
    },
    {
      "cell_type": "code",
      "source": [
        "#Aprendendo a função INPUT\n",
        "nome = input('Digite seu nome')\n",
        "print('Olá, ' + nome)"
      ],
      "metadata": {
        "colab": {
          "base_uri": "https://localhost:8080/"
        },
        "id": "FTo6e71X2gSe",
        "outputId": "2009b425-0140-47ee-e873-a72f94750f3f"
      },
      "execution_count": 17,
      "outputs": [
        {
          "output_type": "stream",
          "name": "stdout",
          "text": [
            "Digite seu nomeDaniel\n",
            "Olá, Daniel\n"
          ]
        }
      ]
    },
    {
      "cell_type": "markdown",
      "source": [
        "A função INPUT é a função de entrada de dados na linguagem Python\n"
      ],
      "metadata": {
        "id": "JAbcpus63FdX"
      }
    },
    {
      "cell_type": "code",
      "source": [
        "#PARSE, UMA NOVA FUNÇÃO\n",
        "n = int(input('Digite um número '))\n",
        "m = n * 3\n",
        "print(m)"
      ],
      "metadata": {
        "colab": {
          "base_uri": "https://localhost:8080/"
        },
        "id": "sMhDzRCQ3OUH",
        "outputId": "1fa7929a-f130-43b2-9484-e66dcfe4e975"
      },
      "execution_count": 23,
      "outputs": [
        {
          "output_type": "stream",
          "name": "stdout",
          "text": [
            "Digite um número 4\n",
            "12\n"
          ]
        }
      ]
    }
  ]
}